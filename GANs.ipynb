{
 "cells": [
  {
   "cell_type": "markdown",
   "id": "03332ffc-8cda-4083-b9ed-2b170f69e9e4",
   "metadata": {},
   "source": [
    "**Author @Sapnil Patel**"
   ]
  },
  {
   "cell_type": "markdown",
   "id": "a8ad95a3-9703-49f8-beb6-cf71390e3ac3",
   "metadata": {},
   "source": [
    "**Generative Adversarial Network for an MNIST Handwritten Digits From Scratch in Keras**"
   ]
  },
  {
   "cell_type": "code",
   "execution_count": 3,
   "id": "a985fefb-b021-4265-b5d2-6f3b0503e70a",
   "metadata": {},
   "outputs": [],
   "source": [
    "import tensorflow as tf"
   ]
  },
  {
   "cell_type": "code",
   "execution_count": 4,
   "id": "6a580f2c-2822-41c7-8e5f-6a840bb5a17c",
   "metadata": {},
   "outputs": [
    {
     "name": "stdout",
     "output_type": "stream",
     "text": [
      "Train (60000, 28, 28) (60000,)\n",
      "Test (10000, 28, 28) (10000,)\n"
     ]
    }
   ],
   "source": [
    "# loading the mnist dataset\n",
    "from tensorflow.keras.datasets.mnist import load_data\n",
    "\n",
    "# load the images into memory\n",
    "(trainX, trainy), (testX, testy) = load_data()\n",
    "\n",
    "# summarize the shape of the dataset\n",
    "print('Train', trainX.shape, trainy.shape)\n",
    "print('Test', testX.shape, testy.shape)"
   ]
  },
  {
   "cell_type": "code",
   "execution_count": null,
   "id": "a967a9ef-1884-44ca-9825-6cc96d3d0f53",
   "metadata": {},
   "outputs": [],
   "source": []
  }
 ],
 "metadata": {
  "kernelspec": {
   "display_name": "Python 3 (ipykernel)",
   "language": "python",
   "name": "python3"
  },
  "language_info": {
   "codemirror_mode": {
    "name": "ipython",
    "version": 3
   },
   "file_extension": ".py",
   "mimetype": "text/x-python",
   "name": "python",
   "nbconvert_exporter": "python",
   "pygments_lexer": "ipython3",
   "version": "3.9.7"
  }
 },
 "nbformat": 4,
 "nbformat_minor": 5
}
